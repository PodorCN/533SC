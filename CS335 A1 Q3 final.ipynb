{
 "cells": [
  {
   "cell_type": "markdown",
   "metadata": {},
   "source": [
    "# CS335 \n",
    "## Assignment 1 Question 3\n",
    "Zixiao Min 20782937"
   ]
  },
  {
   "cell_type": "code",
   "execution_count": 1,
   "metadata": {},
   "outputs": [],
   "source": [
    "import numpy as np\n",
    "import math\n",
    "import matplotlib.pyplot as plt "
   ]
  },
  {
   "cell_type": "code",
   "execution_count": 2,
   "metadata": {},
   "outputs": [],
   "source": [
    "## Define Global Settings\n",
    "\n",
    "Num_paths = 75000\n",
    "\n",
    "N = np.zeros(8)\n",
    "N[1] = 100\n",
    "N[2] = 200\n",
    "N[3] = 400\n",
    "N[4] = 800\n",
    "N[5] = 1600\n",
    "N[6] = 3200\n",
    "N[7] = 6400\n",
    "\n",
    "## Define Constants\n",
    "\n",
    "T = 1.5\n",
    "\n",
    "delta_t = np.zeros(8)\n",
    "for i in np.arange(7):\n",
    "    delta_t[i+1] = T / N[i+1] # Define delta_t for each N"
   ]
  },
  {
   "cell_type": "code",
   "execution_count": 3,
   "metadata": {},
   "outputs": [],
   "source": [
    "## Define function I\n",
    "\n",
    "def I(index):\n",
    "    Iresults = np.zeros(Num_paths)\n",
    "    for i in np.arange(Num_paths):\n",
    "        get_N = int(N[index])\n",
    "        phi = np.random.normal(0,1, get_N)\n",
    "        Iresults[i] = sum((np.power(phi, 2) * delta_t[index]))\n",
    "    return Iresults"
   ]
  },
  {
   "cell_type": "code",
   "execution_count": 4,
   "metadata": {},
   "outputs": [],
   "source": [
    "## Run tests \n",
    "\n",
    "results = np.zeros(Num_paths)\n",
    "mean = np.zeros(7)\n",
    "var = np.zeros(7)\n",
    "\n",
    "for j in np.arange(7):\n",
    "    results = I(j+1)\n",
    "    mean[j] = np.mean(results)\n",
    "    var[j] = np.var(results)\n"
   ]
  },
  {
   "cell_type": "code",
   "execution_count": 5,
   "metadata": {},
   "outputs": [
    {
     "name": "stdout",
     "output_type": "stream",
     "text": [
      "delta_t                 Mean of I                 Variance of I\n",
      "==========================================================================\n",
      "0.015            1.5006729676548725            0.04519262187858185\n",
      "0.0075            1.500415292960534            0.022406271783315803\n",
      "0.00375            1.4999932166210268            0.011268166670302945\n",
      "0.001875            1.4999201383633947            0.005629048968917814\n",
      "0.0009375            1.5001265405884738            0.002812315209370878\n",
      "0.00046875            1.500064274219979            0.0014093656003834184\n",
      "0.000234375            1.4999382893532969            0.000707999976979256\n"
     ]
    }
   ],
   "source": [
    "## Generating Table\n",
    "\n",
    "print(\"delta_t                 Mean of I                 Variance of I\")\n",
    "print(\"==========================================================================\")\n",
    "for i in np.arange(7):\n",
    "    print(delta_t[i+1],\"          \",mean[i], \"          \", var[i])"
   ]
  },
  {
   "cell_type": "code",
   "execution_count": 6,
   "metadata": {
    "scrolled": false
   },
   "outputs": [
    {
     "data": {
      "text/plain": [
       "Text(0.5, 1.0, 'Variance of I versus delta_t')"
      ]
     },
     "execution_count": 6,
     "metadata": {},
     "output_type": "execute_result"
    },
    {
     "data": {
      "image/png": "[encoded data removed]",
      "text/plain": [
       "<Figure size 432x288 with 1 Axes>"
      ]
     },
     "metadata": {
      "needs_background": "light"
     },
     "output_type": "display_data"
    }
   ],
   "source": [
    "## Plotting\n",
    "\n",
    "delta_fixed = np.zeros(7)\n",
    "for i in np.arange(7):\n",
    "    delta_fixed[i] = delta_t[i+1]\n",
    "\n",
    "plot = plt.plot(delta_fixed,var , \"bo\") \n",
    "plt.xlabel(\"Delta_t\")\n",
    "plt.ylabel(\"Variance of I\")\n",
    "plt.title(\"Variance of I versus delta_t\")"
   ]
  },
  {
   "cell_type": "markdown",
   "metadata": {},
   "source": [
    "* From the graph above, it is cleared to see that the variance goes up as delta_t goes up, (i.e. N goes down). \n",
    "\n",
    "* Ito's Lemma defines that \n",
    "$$E(I)=E\\left(\\sum_{i=0}^{N-1}(\\Delta Z_i)^2\\right)=E\\left(\\sum_{i=0}^{N-1}\\phi^2 \\Delta t\\right)=E\\left(\\sum_{i=0}^{N-1}\\Delta t\\right)=N*\\delta t=T=1.5$$\n",
    "$$Var(I) =  E[(I-E(I))^2]=E\\left(\\left(\\left(\\sum_{i=0}^{N-1}(\\Delta Z_i)^2\\right) - T^2\\right)^2\\right)=E\\left(\\left(\\left(\\sum_{i=0}^{N-1}(\\Delta Z_i)^2\\right) - \\left(\\sum_{i=0}^{N-1}\\Delta t\\right)\\right)^2\\right)$$\n",
    "By course notes 2.013, 2.014, 2.015, we have that as $\\Delta t\\to 0$, $Var(I)\\to 0$ since $(\\Delta Z_i)^2\\to\\Delta t$\n",
    "\n"
   ]
  },
  {
   "cell_type": "code",
   "execution_count": null,
   "metadata": {},
   "outputs": [],
   "source": []
  }
 ],
 "metadata": {
  "kernelspec": {
   "display_name": "Python 3",
   "language": "python",
   "name": "python3"
  },
  "language_info": {
   "codemirror_mode": {
    "name": "ipython",
    "version": 3
   },
   "file_extension": ".py",
   "mimetype": "text/x-python",
   "name": "python",
   "nbconvert_exporter": "python",
   "pygments_lexer": "ipython3",
   "version": "3.8.3"
  }
 },
 "nbformat": 4,
 "nbformat_minor": 4
}
